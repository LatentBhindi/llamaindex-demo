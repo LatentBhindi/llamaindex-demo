{
 "cells": [
  {
   "cell_type": "code",
   "execution_count": 1,
   "metadata": {},
   "outputs": [],
   "source": [
    "from llama_index.llms.ollama import Ollama"
   ]
  },
  {
   "cell_type": "code",
   "execution_count": 2,
   "metadata": {},
   "outputs": [],
   "source": [
    "\n",
    "llm = Ollama(model=\"llama3.2:3b\", request_timeout=120.0)"
   ]
  },
  {
   "cell_type": "code",
   "execution_count": 3,
   "metadata": {},
   "outputs": [],
   "source": [
    "\n",
    "resp = llm.complete(\"Who is Paul Graham?\")"
   ]
  },
  {
   "cell_type": "code",
   "execution_count": 6,
   "metadata": {},
   "outputs": [
    {
     "data": {
      "text/plain": [
       "CompletionResponse(text='Paul Graham is a well-known American entrepreneur, investor, and philanthropist. He is best known for co-founding Y Combinator (YC), a renowned startup accelerator program that has launched the careers of numerous successful entrepreneurs.\\n\\nBorn in 1966, Graham made his fortune by selling his company Informix to IBM in 1999. After selling Informix, he co-founded YC with Jeff Clune and Robert Nosower in 2005. The program\\'s mission is to provide startup founders with resources, mentorship, and funding to help them build successful companies.\\n\\nGraham is widely recognized for his investment philosophy, which emphasizes the importance of rapid iteration, customer feedback, and scalability. He has also been vocal about his views on entrepreneurship, business, and technology, often sharing insights through YC\\'s blog, which has become a popular resource for startup founders and entrepreneurs.\\n\\nSome notable startups that have graduated from YC include Airbnb, Dropbox, Reddit, and Stripe, among many others. Graham\\'s reputation as an investor and entrepreneur has earned him recognition as one of the most influential people in the tech industry.\\n\\nGraham has also written several articles and books on entrepreneurship, including \"The Hard Thing About Hard Things,\" which offers guidance for startup founders facing the challenges of building a successful company.', additional_kwargs={'tool_calls': []}, raw={'model': 'llama3.2:3b', 'created_at': '2024-10-06T06:45:47.3687896Z', 'message': {'role': 'assistant', 'content': 'Paul Graham is a well-known American entrepreneur, investor, and philanthropist. He is best known for co-founding Y Combinator (YC), a renowned startup accelerator program that has launched the careers of numerous successful entrepreneurs.\\n\\nBorn in 1966, Graham made his fortune by selling his company Informix to IBM in 1999. After selling Informix, he co-founded YC with Jeff Clune and Robert Nosower in 2005. The program\\'s mission is to provide startup founders with resources, mentorship, and funding to help them build successful companies.\\n\\nGraham is widely recognized for his investment philosophy, which emphasizes the importance of rapid iteration, customer feedback, and scalability. He has also been vocal about his views on entrepreneurship, business, and technology, often sharing insights through YC\\'s blog, which has become a popular resource for startup founders and entrepreneurs.\\n\\nSome notable startups that have graduated from YC include Airbnb, Dropbox, Reddit, and Stripe, among many others. Graham\\'s reputation as an investor and entrepreneur has earned him recognition as one of the most influential people in the tech industry.\\n\\nGraham has also written several articles and books on entrepreneurship, including \"The Hard Thing About Hard Things,\" which offers guidance for startup founders facing the challenges of building a successful company.'}, 'done_reason': 'stop', 'done': True, 'total_duration': 9560249700, 'load_duration': 4668726900, 'prompt_eval_count': 30, 'prompt_eval_duration': 77025000, 'eval_count': 261, 'eval_duration': 4808985000, 'usage': {'prompt_tokens': 30, 'completion_tokens': 261, 'total_tokens': 291}}, logprobs=None, delta=None)"
      ]
     },
     "execution_count": 6,
     "metadata": {},
     "output_type": "execute_result"
    }
   ],
   "source": [
    "resp"
   ]
  },
  {
   "cell_type": "code",
   "execution_count": null,
   "metadata": {},
   "outputs": [],
   "source": []
  }
 ],
 "metadata": {
  "kernelspec": {
   "display_name": "Python 3",
   "language": "python",
   "name": "python3"
  },
  "language_info": {
   "codemirror_mode": {
    "name": "ipython",
    "version": 3
   },
   "file_extension": ".py",
   "mimetype": "text/x-python",
   "name": "python",
   "nbconvert_exporter": "python",
   "pygments_lexer": "ipython3",
   "version": "3.8.20"
  }
 },
 "nbformat": 4,
 "nbformat_minor": 2
}
